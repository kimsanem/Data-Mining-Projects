{
 "cells": [
  {
   "cell_type": "code",
   "execution_count": 9,
   "id": "419d916d",
   "metadata": {},
   "outputs": [
    {
     "data": {
      "text/plain": [
       "' data normalization for standardization are both data preprocessing techniques used to scale and transform data,'"
      ]
     },
     "execution_count": 9,
     "metadata": {},
     "output_type": "execute_result"
    }
   ],
   "source": [
    "''' data normalization for standardization are both data preprocessing techniques used to scale and transform data,'''"
   ]
  },
  {
   "cell_type": "code",
   "execution_count": 13,
   "id": "8eb2ca08",
   "metadata": {},
   "outputs": [],
   "source": [
    "import numpy as np"
   ]
  },
  {
   "cell_type": "code",
   "execution_count": 56,
   "id": "fb30e48d",
   "metadata": {},
   "outputs": [],
   "source": [
    "def decimal_normalize(number):\n",
    "    data = np.array(number, dtype=float)\n",
    "    j = int(np.ceil(np.log10(np.max(np.abs(number)))))\n",
    "    return data / (10 ** j)"
   ]
  },
  {
   "cell_type": "code",
   "execution_count": 72,
   "id": "c424a0a7",
   "metadata": {},
   "outputs": [],
   "source": [
    "def min_max(number):\n",
    "    ''' desc: this function is used for normalization of data \n",
    "        function_name: min_max\n",
    "        no. of argument: 1\n",
    "        argument type: list\n",
    "    '''\n",
    "    numbers = []\n",
    "    min_no = min(number)\n",
    "    max_no = max(number)\n",
    "\n",
    "    for xi in numbers:\n",
    "        newX = (xi-min_no)/(max_no-min_no)\n",
    "        number.append(newX)\n",
    "    return number"
   ]
  },
  {
   "cell_type": "code",
   "execution_count": 73,
   "id": "e9b7a1ff",
   "metadata": {},
   "outputs": [],
   "source": [
    "def z_score(number):\n",
    "    ''' desc: this function is used for standardization of data \n",
    "        function_name: Z_score\n",
    "        no. of argument: 1\n",
    "        argument type: list\n",
    "    '''\n",
    "    mean = np.mean(number)\n",
    "    std_dev = np.std(number)\n",
    "\n",
    "    # for xi in number:\n",
    "    #     newX = (xi-mean)/std_dev\n",
    "    #     number.append(newX)\n",
    "    # return number\n",
    "    \n",
    "    return (number-mean)/std_dev"
   ]
  },
  {
   "cell_type": "code",
   "execution_count": 75,
   "id": "3752b0da",
   "metadata": {
    "vscode": {
     "languageId": "javascript"
    }
   },
   "outputs": [
    {
     "name": "stdout",
     "output_type": "stream",
     "text": [
      "Decimal Normalization:  [0.115 0.12  0.25  0.085 0.7   0.122]\n",
      "Min-Max Normalization:  [115, 120, 250, 85, 700, 122]\n",
      "Z-Score Standardization:  [-0.54229274 -0.51911784  0.08342965 -0.68134217  2.16917098 -0.50984788]\n"
     ]
    }
   ],
   "source": [
    "number = [115,120,250,85,700,122]\n",
    "\n",
    "print(\"Decimal Normalization: \", decimal_normalize(number))\n",
    "print(\"Min-Max Normalization: \", min_max(number))\n",
    "print(\"Z-Score Standardization: \", z_score(number))"
   ]
  }
 ],
 "metadata": {
  "kernelspec": {
   "display_name": "base",
   "language": "python",
   "name": "python3"
  },
  "language_info": {
   "codemirror_mode": {
    "name": "ipython",
    "version": 3
   },
   "file_extension": ".py",
   "mimetype": "text/x-python",
   "name": "python",
   "nbconvert_exporter": "python",
   "pygments_lexer": "ipython3",
   "version": "3.12.2"
  }
 },
 "nbformat": 4,
 "nbformat_minor": 5
}
