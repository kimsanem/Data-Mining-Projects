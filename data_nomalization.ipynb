{
 "cells": [
  {
   "cell_type": "code",
   "execution_count": 5,
   "id": "419d916d",
   "metadata": {},
   "outputs": [
    {
     "data": {
      "text/plain": [
       "' data normalization for standardization '"
      ]
     },
     "execution_count": 5,
     "metadata": {},
     "output_type": "execute_result"
    }
   ],
   "source": [
    "''' data normalization for standardization '''"
   ]
  },
  {
   "cell_type": "code",
   "execution_count": 6,
   "id": "8eb2ca08",
   "metadata": {},
   "outputs": [
    {
     "name": "stdout",
     "output_type": "stream",
     "text": [
      "[13 35 49 45  5  6 46 19  9 46 18 18 29 15 10 40 38 36 14 34 33 19  5 40\n",
      "  9  1 43 29 43 38  5 21  3  0 28 14  9  5 35 32 18 43 48 12 44 44 25 47\n",
      " 12  1  7 48 22 16 31 37 44 20 47 31 10 31 27 49  8 11 28 34  9 41 13 18\n",
      " 39 30 47 12 20 49 48 34 36 16  9 37 26 15 34 49  4  4  0 38  5 13 19 37\n",
      " 38  1 12  9]\n"
     ]
    }
   ],
   "source": [
    "import numpy as np\n",
    "\n",
    "random_no = np.random.randint(0,50,100)\n",
    "print(random_no)"
   ]
  },
  {
   "cell_type": "code",
   "execution_count": null,
   "id": "c424a0a7",
   "metadata": {},
   "outputs": [],
   "source": []
  }
 ],
 "metadata": {
  "kernelspec": {
   "display_name": "base",
   "language": "python",
   "name": "python3"
  },
  "language_info": {
   "codemirror_mode": {
    "name": "ipython",
    "version": 3
   },
   "file_extension": ".py",
   "mimetype": "text/x-python",
   "name": "python",
   "nbconvert_exporter": "python",
   "pygments_lexer": "ipython3",
   "version": "3.12.2"
  }
 },
 "nbformat": 4,
 "nbformat_minor": 5
}
