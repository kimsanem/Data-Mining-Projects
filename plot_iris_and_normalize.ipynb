{
 "cells": [
  {
   "cell_type": "code",
   "execution_count": null,
   "id": "32e014ff",
   "metadata": {},
   "outputs": [],
   "source": [
    "import numpy as np\n",
    "import pandas as pd\n",
    "from sklearn.preprocessing import StandardScaler, MinMaxScaler"
   ]
  },
  {
   "cell_type": "code",
   "execution_count": 5,
   "id": "642779ef",
   "metadata": {},
   "outputs": [
    {
     "name": "stdout",
     "output_type": "stream",
     "text": [
      "     sepal_length  sepal_width  petal_length  petal_width    variety\n",
      "0             5.1          3.5           1.4          0.2     Setosa\n",
      "1             4.9          3.0           1.4          0.2     Setosa\n",
      "2             4.7          3.2           1.3          0.2     Setosa\n",
      "3             4.6          3.1           1.5          0.2     Setosa\n",
      "4             5.0          3.6           1.4          0.2     Setosa\n",
      "..            ...          ...           ...          ...        ...\n",
      "145           6.7          3.0           5.2          2.3  Virginica\n",
      "146           6.3          2.5           5.0          1.9  Virginica\n",
      "147           6.5          3.0           5.2          2.0  Virginica\n",
      "148           6.2          3.4           5.4          2.3  Virginica\n",
      "149           5.9          3.0           5.1          1.8  Virginica\n",
      "\n",
      "[150 rows x 5 columns]\n"
     ]
    }
   ],
   "source": [
    "data_frame = pd.read_csv('iris.csv');\n",
    "print(data_frame)"
   ]
  },
  {
   "cell_type": "code",
   "execution_count": 6,
   "id": "bc0596ea",
   "metadata": {},
   "outputs": [],
   "source": [
    "def min_max(number):\n",
    "    ''' desc: this function is used for normalization of data \n",
    "        function_name: min_max\n",
    "        no. of argument: 1\n",
    "        argument type: list\n",
    "    '''\n",
    "    numbers = []\n",
    "    min_no = min(number)\n",
    "    max_no = max(number)\n",
    "\n",
    "    for xi in numbers:\n",
    "        newX = (xi-min_no)/(max_no-min_no)\n",
    "        number.append(newX)\n",
    "    return number"
   ]
  },
  {
   "cell_type": "code",
   "execution_count": null,
   "id": "7a52c9e1",
   "metadata": {},
   "outputs": [],
   "source": [
    "def min_max(number):\n",
    "    ''' desc: this function is used for normalization of data \n",
    "        function_name: min_max\n",
    "        no. of argument: 1\n",
    "        argument type: list\n",
    "    '''\n",
    "    numbers = []\n",
    "    min_no = min(number)\n",
    "    max_no = max(number)\n",
    "\n",
    "    for xi in numbers:\n",
    "        newX = (xi-min_no)/(max_no-min_no)\n",
    "        number.append(newX)\n",
    "    return number"
   ]
  }
 ],
 "metadata": {
  "kernelspec": {
   "display_name": "base",
   "language": "python",
   "name": "python3"
  },
  "language_info": {
   "codemirror_mode": {
    "name": "ipython",
    "version": 3
   },
   "file_extension": ".py",
   "mimetype": "text/x-python",
   "name": "python",
   "nbconvert_exporter": "python",
   "pygments_lexer": "ipython3",
   "version": "3.12.2"
  }
 },
 "nbformat": 4,
 "nbformat_minor": 5
}
